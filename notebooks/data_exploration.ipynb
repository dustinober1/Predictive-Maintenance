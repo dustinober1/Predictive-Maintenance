{
 "cells": [
  {
   "cell_type": "markdown",
   "metadata": {},
   "source": [
    "# NASA Turbofan Engine Data Exploration\n",
    "\n",
    "This notebook explores the NASA Turbofan Engine Degradation Simulation Dataset."
   ]
  },
  {
   "cell_type": "code",
   "execution_count": null,
   "metadata": {},
   "outputs": [],
   "source": [
    "import pandas as pd\n",
    "import numpy as np\n",
    "import matplotlib.pyplot as plt\n",
    "import seaborn as sns\n",
    "\n",
    "# Set style\n",
    "plt.style.use('seaborn-v0_8')\n",
    "sns.set_palette(\"husl\")"
   ]
  },
  {
   "cell_type": "markdown",
   "metadata": {},
   "source": [
    "## Load Dataset"
   ]
  },
  {
   "cell_type": "code",
   "execution_count": null,
   "metadata": {},
   "outputs": [],
   "source": [
    "# Define column names\n",
    "columns = ['engine_id', 'cycle'] + [f'setting_{i}' for i in range(1, 4)] + [f'sensor_{i}' for i in range(1, 22)]\n",
    "\n",
    "# Load training data\n",
    "train_df = pd.read_csv('../data/raw/train_FD001.txt', sep=' ', names=columns)\n",
    "\n",
    "# Load test data  \n",
    "test_df = pd.read_csv('../data/raw/test_FD001.txt', sep=' ', names=columns)\n",
    "\n",
    "# Load RUL truth\n",
    "rul_df = pd.read_csv('../data/raw/RUL_FD001.txt', names=['RUL'])\n",
    "\n",
    "print(f\"Training data shape: {train_df.shape}\")\n",
    "print(f\"Test data shape: {test_df.shape}\")\n",
    "print(f\"RUL truth shape: {rul_df.shape}\")"
   ]
  },
  {
   "cell_type": "markdown",
   "metadata": {},
   "source": [
    "## Data Overview"
   ]
  },
  {
   "cell_type": "code",
   "execution_count": null,
   "metadata": {},
   "outputs": [],
   "source": [
    "# Display basic info\n",
    "print(\"Training Data Info:\")\n",
    "print(train_df.info())\n",
    "print(\"\\nFirst 5 rows:\")\n",
    "print(train_df.head())"
   ]
  },
  {
   "cell_type": "code",
   "execution_count": null,
   "metadata": {},
   "outputs": [],
   "source": [
    "# Calculate RUL for training data\n",
    "def calculate_rul(df):\n",
    "    \"\"\"Calculate Remaining Useful Life for each row\"\"\"\n",
    "    df_rul = df.copy()\n",
    "    df_rul['RUL'] = df_rul.groupby('engine_id')['cycle'].transform('max') - df_rul['cycle']\n",
    "    return df_rul\n",
    "\n",
    "train_df_rul = calculate_rul(train_df)\n",
    "print(\"Training data with RUL:\")\n",
    "print(train_df_rul[['engine_id', 'cycle', 'RUL']].head(10))"
   ]
  },
  {
   "cell_type": "markdown",
   "metadata": {},
   "source": [
    "## Engine Lifecycle Analysis"
   ]
  },
  {
   "cell_type": "code",
   "execution_count": null,
   "metadata": {},
   "outputs": [],
   "source": [
    "# Engine lifecycle statistics\n",
    "lifecycle_stats = train_df.groupby('engine_id')['cycle'].max().describe()\n",
    "print(\"Engine Lifecycle Statistics (cycles):\")\n",
    "print(lifecycle_stats)\n",
    "\n",
    "# Plot lifecycle distribution\n",
    "plt.figure(figsize=(10, 6))\n",
    "plt.hist(train_df.groupby('engine_id')['cycle'].max(), bins=20, alpha=0.7, edgecolor='black')\n",
    "plt.xlabel('Engine Lifecycle (cycles)')\n",
    "plt.ylabel('Number of Engines')\n",
    "plt.title('Distribution of Engine Lifecycles')\n",
    "plt.grid(True, alpha=0.3)\n",
    "plt.show()"
   ]
  },
  {
   "cell_type": "markdown",
   "metadata": {},
   "source": [
    "## Sensor Data Analysis"
   ]
  },
  {
   "cell_type": "code",
   "execution_count": null,
   "metadata": {},
   "outputs": [],
   "source": [
    "# Select key sensors for analysis\n",
    "key_sensors = ['sensor_2', 'sensor_3', 'sensor_4', 'sensor_7', 'sensor_11', 'sensor_12']\n",
    "\n",
    "# Plot sensor degradation for a sample engine\n",
    "sample_engine = train_df_rul[train_df_rul['engine_id'] == 1]\n",
    "\n",
    "fig, axes = plt.subplots(2, 3, figsize=(15, 10))\n",
    "axes = axes.ravel()\n",
    "\n",
    "for i, sensor in enumerate(key_sensors):\n",
    "    axes[i].plot(sample_engine['cycle'], sample_engine[sensor], 'b-', alpha=0.7)\n",
    "    axes[i].set_xlabel('Cycle')\n",
    "    axes[i].set_ylabel(sensor)\n",
    "    axes[i].set_title(f'{sensor} Degradation Pattern')\n",
    "    axes[i].grid(True, alpha=0.3)\n",
    "\n",
    "plt.tight_layout()\n",
    "plt.show()"
   ]
  },
  {
   "cell_type": "code",
   "execution_count": null,
   "metadata": {},
   "outputs": [],
   "source": [
    "# Correlation analysis\n",
    "sensor_cols = [col for col in train_df.columns if col.startswith('sensor_')]\n",
    "correlation_matrix = train_df[sensor_cols].corr()\n",
    "\n",
    "plt.figure(figsize=(12, 10))\n",
    "sns.heatmap(correlation_matrix, annot=True, cmap='coolwarm', center=0, fmt='.2f')\n",
    "plt.title('Sensor Correlation Matrix')\n",
    "plt.tight_layout()\n",
    "plt.show()"
   ]
  },
  {
   "cell_type": "markdown",
   "metadata": {},
   "source": [
    "## RUL Distribution Analysis"
   ]
  },
  {
   "cell_type": "code",
   "execution_count": null,
   "metadata": {},
   "outputs": [],
   "source": [
    "# RUL distribution in training data\n",
    "plt.figure(figsize=(12, 5))\n",
    "\n",
    "plt.subplot(1, 2, 1)\n",
    "plt.hist(train_df_rul['RUL'], bins=50, alpha=0.7, edgecolor='black')\n",
    "plt.xlabel('Remaining Useful Life (RUL)')\n",
    "plt.ylabel('Frequency')\n",
    "plt.title('RUL Distribution in Training Data')\n",
    "plt.grid(True, alpha=0.3)\n",
    "\n",
    "plt.subplot(1, 2, 2)\n",
    "plt.hist(rul_df['RUL'], bins=20, alpha=0.7, edgecolor='black', color='orange')\n",
    "plt.xlabel('Remaining Useful Life (RUL)')\n",
    "plt.ylabel('Frequency')\n",
    "plt.title('RUL Distribution in Test Truth Data')\n",
    "plt.grid(True, alpha=0.3)\n",
    "\n",
    "plt.tight_layout()\n",
    "plt.show()\n",
    "\n",
    "print(f\"Training RUL stats: {train_df_rul['RUL'].describe()}\")\n",
    "print(f\"Test RUL stats: {rul_df['RUL'].describe()}\")"
   ]
  },
  {
   "cell_type": "markdown",
   "metadata": {},
   "source": [
    "## Data Quality Assessment"
   ]
  },
  {
   "cell_type": "code",
   "execution_count": null,
   "metadata": {},
   "outputs": [],
   "source": [
    "# Check for missing values\n",
    "print(\"Missing values in training data:\")\n",
    "print(train_df.isnull().sum().sum())\n",
    "\n",
    "print(\"\\nMissing values in test data:\")\n",
    "print(test_df.isnull().sum().sum())\n",
    "\n",
    "# Check data types\n",
    "print(\"\\nData types:\")\n",
    "print(train_df.dtypes.value_counts())"
   ]
  },
  {
   "cell_type": "code",
   "execution_count": null,
   "metadata": {},
   "outputs": [],
   "source": [
    "# Save processed data for ML pipeline\n",
    "train_df_rul.to_csv('../data/processed/train_with_rul.csv', index=False)\n",
    "test_df.to_csv('../data/processed/test_data.csv', index=False)\n",
    "rul_df.to_csv('../data/processed/test_rul_truth.csv', index=False)\n",
    "\n",
    "print(\"Processed data saved to data/processed/\")"
   ]
  }
 ],
 "metadata": {
  "kernelspec": {
   "display_name": "Python 3",
   "language": "python",
   "name": "python3"
  },
  "language_info": {
   "codemirror_mode": {
    "name": "ipython",
    "version": 3
   },
   "file_extension": ".py",
   "mimetype": "text/x-python",
   "name": "python",
   "nbconvert_exporter": "python",
   "pygments_lexer": "ipython3",
   "version": "3.8.5"
  }
 },
 "nbformat": 4,
 "nbformat_minor": 4
}